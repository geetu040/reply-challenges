{
 "cells": [
  {
   "cell_type": "code",
   "execution_count": 1,
   "metadata": {},
   "outputs": [],
   "source": [
    "import numpy as np\n",
    "import matplotlib.pyplot as plt\n",
    "import os\n",
    "from copy import deepcopy"
   ]
  },
  {
   "cell_type": "code",
   "execution_count": 2,
   "metadata": {},
   "outputs": [
    {
     "data": {
      "text/plain": [
       "['2020/inputs/c_soup.txt',\n",
       " '2020/inputs/a_solar.txt',\n",
       " '2020/inputs/b_dream.txt',\n",
       " '2020/inputs/e_igloos.txt',\n",
       " '2020/inputs/d_maelstrom.txt',\n",
       " '2020/inputs/f_glitch.txt']"
      ]
     },
     "execution_count": 2,
     "metadata": {},
     "output_type": "execute_result"
    }
   ],
   "source": [
    "INPUTS_DIR = \"2020/inputs\"\n",
    "INPUTS = [os.path.join(INPUTS_DIR, i) for i in os.listdir(INPUTS_DIR)]\n",
    "INPUT = INPUTS[1]\n",
    "# INPUT = INPUTS[-1]\n",
    "INPUTS"
   ]
  },
  {
   "cell_type": "code",
   "execution_count": 7,
   "metadata": {},
   "outputs": [],
   "source": [
    "with open(INPUT, 'r') as f:\n",
    "\t# OFFICE SHAPE\n",
    "\tline = f.readline()\n",
    "\tW, H = [int(i) for i in line.split()]\n",
    "\n",
    "\t# GRID\n",
    "\tGRID = []\n",
    "\tfor i in range(H):\n",
    "\t\tline = [int(i) for i in f.readline()[:-1].replace(\"#\", \"0\").replace(\"_\", \"1\").replace(\"M\", '2')]\n",
    "\t\tGRID.append(line)\n",
    "\n",
    "\t# DEVELOPERS\n",
    "\tN_DEV = int(f.readline())\n",
    "\tDEVS = []\n",
    "\tfor i in range(N_DEV):\n",
    "\t\tline = f.readline().split()\n",
    "\t\tdev_info = {\n",
    "\t\t\t\"c\": line[0],\n",
    "\t\t\t\"b\": line[1],\n",
    "\t\t\t\"n_skills\": line[2],\n",
    "\t\t\t\"skills\": line[3:],\n",
    "\t\t}\n",
    "\t\tDEVS.append(dev_info)\n",
    "\n",
    "\t# MANAGERS\n",
    "\tN_MAN = int(f.readline())\n",
    "\tMANS = []\n",
    "\tfor i in range(N_MAN):\n",
    "\t\tline = f.readline().split()\n",
    "\t\tman_info = {\n",
    "\t\t\t\"c\": line[0],\n",
    "\t\t\t\"b\": line[1]\n",
    "\t\t}\n",
    "\t\tMANS.append(man_info)"
   ]
  },
  {
   "cell_type": "code",
   "execution_count": 8,
   "metadata": {},
   "outputs": [
    {
     "name": "stdout",
     "output_type": "stream",
     "text": [
      "\n",
      "purple:\tblocks\n",
      "blue:\tdeveloper\n",
      "yellow:\tmanager\n",
      "\n"
     ]
    },
    {
     "data": {
      "image/png": "[encoded data removed]",
      "text/plain": [
       "<Figure size 800x480 with 1 Axes>"
      ]
     },
     "metadata": {},
     "output_type": "display_data"
    }
   ],
   "source": [
    "plt.matshow(GRID)\n",
    "print(\"\"\"\n",
    "purple:\tblocks\n",
    "blue:\tdeveloper\n",
    "yellow:\tmanager\n",
    "\"\"\")"
   ]
  },
  {
   "cell_type": "code",
   "execution_count": null,
   "metadata": {},
   "outputs": [],
   "source": [
    "[2, 1], [0, 1], [1, 2], [1, 0]"
   ]
  },
  {
   "cell_type": "code",
   "execution_count": 9,
   "metadata": {},
   "outputs": [
    {
     "name": "stdout",
     "output_type": "stream",
     "text": [
      "\n",
      "W 5 \n",
      "H 3 \n",
      "N_DEV 10 \n",
      "N_MAN 3\n"
     ]
    }
   ],
   "source": [
    "W, H, GRID, N_DEV, DEVS, N_MAN, MANS\n",
    "print(\n",
    "\t\"\\nW\", W,\n",
    "\t\"\\nH\", H,\n",
    "\t\"\\nN_DEV\", N_DEV,\n",
    "\t\"\\nN_MAN\", N_MAN,\n",
    ")"
   ]
  },
  {
   "cell_type": "code",
   "execution_count": 71,
   "metadata": {},
   "outputs": [
    {
     "name": "stdout",
     "output_type": "stream",
     "text": [
      "{'c': 'opn', 'b': '2'}\n"
     ]
    }
   ],
   "source": [
    "w = deepcopy(W)\n",
    "h = deepcopy(H)\n",
    "grid = deepcopy(GRID)\n",
    "n_dev = deepcopy(N_DEV)\n",
    "devs = deepcopy(DEVS)\n",
    "n_man = deepcopy(N_MAN)\n",
    "mans = deepcopy(MANS)\n",
    "\n",
    "# block_seats = []\n",
    "dev_seats = []\n",
    "man_seats = []\n",
    "block_seats = []\n",
    "for y, row in enumerate(grid):\n",
    "    for x, col in enumerate(row):\n",
    "        if col == 0:\n",
    "            block_seats.append([x, y])\n",
    "        if col == 1:\n",
    "            dev_seats.append([x, y])\n",
    "        if col == 2:\n",
    "            man_seats.append([x, y])\n",
    "\n",
    "\n",
    "# n_dev_seats = sum([len([i for i in row if i == 0]) for row in GRID])\n",
    "# n_man_seats = sum([len([i for i in row if i == 1]) for row in GRID])\n",
    "# n_block_seats = sum([len([i for i in row if i == 2]) for row in GRID])\n",
    "# n_empty_seats = N_DEV_SEATS + N_MAN_SEATS\n",
    "\n",
    "def update(nodes, pos, per, per_type):\n",
    "    # UPDATING VALUES\n",
    "    grid[pos[1]][pos[0]] = per\n",
    "\n",
    "    if per_type == 1:\n",
    "        devs.remove(per)\n",
    "        dev_seats.remove(pos)\n",
    "    if per_type == 2:\n",
    "        mans.remove(per)\n",
    "        man_seats.remove(pos)\n",
    "    \n",
    "    nodes.append([pos[0]+1, pos[1]])\n",
    "    nodes.append([pos[0]-1, pos[1]])\n",
    "    nodes.append([pos[0], pos[1]+1])\n",
    "    nodes.append([pos[0], pos[1]-1])\n",
    "    nodes_to_remove = []\n",
    "    for i, node in enumerate(nodes):\n",
    "        try: node_placeholder = grid[node[1]][node[0]]\n",
    "        except: node_placeholder = None\n",
    "        if node_placeholder == 1 or node_placeholder == 2:\n",
    "            continue\n",
    "        nodes_to_remove.append(i)\n",
    "    nodes = [nodes[i] for i in range(len(nodes)) if i not in nodes_to_remove]\n",
    "\n",
    "    return nodes\n",
    "\n",
    "def select_on_pos(pos):\n",
    "    pos_holder = grid[pos[1]][pos[0]]\n",
    "    if pos_holder == 1:\n",
    "        # select a dev\n",
    "        per = devs[0]\n",
    "    if pos_holder == 2:\n",
    "        # select a man\n",
    "        per = mans[0]\n",
    "    print(per)\n",
    "\n",
    "def find_next(nodes):\n",
    "\n",
    "    if len(nodes) == 0:\n",
    "        if len(dev_seats) > 0:\n",
    "            pos = dev_seats[0]\n",
    "            per = devs[0]\n",
    "            per_type = 1\n",
    "        else:\n",
    "            pos = man_seats[0]\n",
    "            per = mans[0]\n",
    "            per_type = 0\n",
    "    else:\n",
    "        for node in nodes:\n",
    "            select_on_pos(node)\n",
    "\n",
    "\n",
    "        return nodes\n",
    "\n",
    "    return update(nodes, pos, per, per_type)\n",
    "\n",
    "\n",
    "\n",
    "nodes = []\n",
    "for n in range(len(block_seats)):\n",
    "    nodes = find_next(nodes)\n",
    "\n",
    "    if n == 1:\n",
    "        break"
   ]
  },
  {
   "cell_type": "code",
   "execution_count": null,
   "metadata": {},
   "outputs": [],
   "source": []
  }
 ],
 "metadata": {
  "kernelspec": {
   "display_name": "Python 3",
   "language": "python",
   "name": "python3"
  },
  "language_info": {
   "codemirror_mode": {
    "name": "ipython",
    "version": 3
   },
   "file_extension": ".py",
   "mimetype": "text/x-python",
   "name": "python",
   "nbconvert_exporter": "python",
   "pygments_lexer": "ipython3",
   "version": "3.10.6"
  },
  "orig_nbformat": 4,
  "vscode": {
   "interpreter": {
    "hash": "e7370f93d1d0cde622a1f8e1c04877d8463912d04d973331ad4851f04de6915a"
   }
  }
 },
 "nbformat": 4,
 "nbformat_minor": 2
}
