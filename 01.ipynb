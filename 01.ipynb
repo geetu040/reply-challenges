{
 "cells": [
  {
   "cell_type": "code",
   "execution_count": null,
   "metadata": {},
   "outputs": [],
   "source": []
  },
  {
   "attachments": {},
   "cell_type": "markdown",
   "metadata": {},
   "source": [
    "Si: initial stamina\n",
    "Smax: max stamina\n",
    "T: no of turns\n",
    "D: [D1, D2, D3, ..., Dx]\n",
    "\n",
    "for Dx\n",
    "Sc: stamina lost by Pandora after defeating the demon\n",
    "Tr: number of turns needed to recover stamina after the fight\n",
    "Na: number of turns in which you’ll earn fragments for defeating the demon\n",
    "\tList of Na elements where ∀ai, i ∈ [0, Na) : ai ∈ N. Each ai represents the number of fragments earned in the i−th turn after the fight for performing the ritual to put the fragments back in the jar\n",
    "\n",
    "2:50\n",
    "\n"
   ]
  },
  {
   "cell_type": "code",
   "execution_count": 1,
   "metadata": {},
   "outputs": [],
   "source": [
    "with open(\"2022/inputs/00-example.txt\", 'r') as f:\n",
    "\tSi, Sm, T, _ = [int(i) for i in f.readline().split(\" \")]\n",
    "\tdems = []\n",
    "\tfor d_line in f.read().split(\"\\n\")[:-1]:\n",
    "\t\tdemon = {}\n",
    "\t\td_i = [int(i) for i in d_line.split(\" \")]\n",
    "\t\tdemon['sc'] = d_i[0]\n",
    "\t\tdemon['tr'] = d_i[1]\n",
    "\t\tdemon['sr'] = d_i[2]\n",
    "\t\tdemon['f'] = d_i[4:]\n",
    "\t\tdems.append(demon)"
   ]
  },
  {
   "cell_type": "code",
   "execution_count": 7,
   "metadata": {},
   "outputs": [
    {
     "data": {
      "text/plain": [
       "(5,\n",
       " 20,\n",
       " 10,\n",
       " [{'sc': 16,\n",
       "   'tr': 4,\n",
       "   'sr': 18,\n",
       "   'f': [0, 10, 5, 0, 0, 7, 4, 1, 1, 6, 10, 2, 9]},\n",
       "  {'sc': 2,\n",
       "   'tr': 1,\n",
       "   'sr': 11,\n",
       "   'f': [0, 6, 1, 7, 3, 4, 7, 0, 5, 7, 9, 5, 6, 3, 9, 9, 0, 5]},\n",
       "  {'sc': 3,\n",
       "   'tr': 1,\n",
       "   'sr': 5,\n",
       "   'f': [0, 5, 4, 5, 0, 10, 1, 8, 3, 8, 2, 4, 7, 2, 1]},\n",
       "  {'sc': 7, 'tr': 6, 'sr': 10, 'f': [8, 2, 5, 0, 0, 4, 3, 9, 6, 4, 1, 6, 4]},\n",
       "  {'sc': 17,\n",
       "   'tr': 5,\n",
       "   'sr': 7,\n",
       "   'f': [5, 1, 4, 5, 1, 8, 9, 10, 9, 7, 2, 8, 9, 7, 3, 10]}])"
      ]
     },
     "execution_count": 7,
     "metadata": {},
     "output_type": "execute_result"
    }
   ],
   "source": [
    "Si, Sm, T, dems"
   ]
  },
  {
   "cell_type": "code",
   "execution_count": null,
   "metadata": {},
   "outputs": [],
   "source": []
  },
  {
   "cell_type": "code",
   "execution_count": null,
   "metadata": {},
   "outputs": [],
   "source": []
  },
  {
   "cell_type": "code",
   "execution_count": null,
   "metadata": {},
   "outputs": [],
   "source": []
  },
  {
   "cell_type": "code",
   "execution_count": null,
   "metadata": {},
   "outputs": [],
   "source": []
  },
  {
   "cell_type": "code",
   "execution_count": 18,
   "metadata": {},
   "outputs": [
    {
     "data": {
      "text/plain": [
       "[{1: 3}, {4: 5}]"
      ]
     },
     "execution_count": 18,
     "metadata": {},
     "output_type": "execute_result"
    }
   ],
   "source": [
    "[{1: 3}] + [{4: 5}]"
   ]
  },
  {
   "cell_type": "code",
   "execution_count": 2,
   "metadata": {},
   "outputs": [
    {
     "data": {
      "text/plain": [
       "([1, 3, 2, 0], 125)"
      ]
     },
     "execution_count": 2,
     "metadata": {},
     "output_type": "execute_result"
    }
   ],
   "source": [
    "def rec(s, t, visited, frag):\n",
    "\n",
    "\tif t == T:\n",
    "\t\treturn ( [i['dem_i'] for i in visited], frag )\n",
    "\n",
    "\tfor v in visited:\n",
    "\t\tdem = dems[v['dem_i']]\n",
    "\t\tfrag += dem['f'][t-v['t']]\n",
    "\t\tif t - v['t'] == dem['tr']:\n",
    "\t\t\ts += dem['sr']\n",
    "\n",
    "\tif s > Sm:\n",
    "\t\ts = Sm\n",
    "\t\t\n",
    "    \n",
    "\tall = []\n",
    "\tfor i, dem in enumerate(dems):\n",
    "\n",
    "\t\tif i not in [v['dem_i'] for v in visited] and dem['sc'] <= s:\n",
    "\t\t\t(s_, t_, visited_, frag_) = (s, t, visited[:], frag)\n",
    "\n",
    "\t\t\ts_ -= dem['sc']\n",
    "\t\t\tt_ += 1\n",
    "\t\t\tif len(dem['f']) > 0:\n",
    "\t\t\t\tfrag_ += dem['f'][0]\n",
    "\t\t\tvisited_.append({\n",
    "\t\t\t\t'dem_i': i,\n",
    "\t\t\t\t't': t,\n",
    "\t\t\t})\n",
    "\t\t\tret = rec(s_, t_, visited_, frag_)\n",
    "\t\t\t\n",
    "\t\t\tall.append(ret)\n",
    "\n",
    "\tret = rec(s, t+1, visited, frag)\n",
    "\tall.append(ret)\n",
    "\n",
    "\tbest = ret\n",
    "\tfor ret in all:\n",
    "\t\tif ret[1] > best[1]:\n",
    "\t\t\tbest = ret\n",
    "\n",
    "\treturn best\n",
    "\t\n",
    "\n",
    "rec(Si, 0, [], 0)"
   ]
  },
  {
   "cell_type": "code",
   "execution_count": 35,
   "metadata": {},
   "outputs": [],
   "source": [
    "from tqdm import tqdm"
   ]
  },
  {
   "cell_type": "code",
   "execution_count": 36,
   "metadata": {},
   "outputs": [
    {
     "name": "stderr",
     "output_type": "stream",
     "text": [
      "  1%|          | 12047/1000000 [00:54<1:14:36, 220.69it/s]\n"
     ]
    },
    {
     "ename": "KeyboardInterrupt",
     "evalue": "",
     "output_type": "error",
     "traceback": [
      "\u001b[0;31m---------------------------------------------------------------------------\u001b[0m",
      "\u001b[0;31mKeyboardInterrupt\u001b[0m                         Traceback (most recent call last)",
      "Cell \u001b[0;32mIn[36], line 3\u001b[0m\n\u001b[1;32m      1\u001b[0m \u001b[39mfor\u001b[39;00m i \u001b[39min\u001b[39;00m tqdm(\u001b[39mrange\u001b[39m(\u001b[39m1_000_000\u001b[39m)):\n\u001b[1;32m      2\u001b[0m     \u001b[39mfor\u001b[39;00m j \u001b[39min\u001b[39;00m \u001b[39mrange\u001b[39m(\u001b[39m100_000\u001b[39m):\n\u001b[0;32m----> 3\u001b[0m         \u001b[39mpass\u001b[39;00m\n",
      "\u001b[0;31mKeyboardInterrupt\u001b[0m: "
     ]
    }
   ],
   "source": [
    "for i in tqdm(range(1_000_000)):\n",
    "    for j in range(100_000):\n",
    "        pass"
   ]
  },
  {
   "cell_type": "code",
   "execution_count": null,
   "metadata": {},
   "outputs": [],
   "source": []
  },
  {
   "cell_type": "code",
   "execution_count": 33,
   "metadata": {},
   "outputs": [
    {
     "data": {
      "text/plain": [
       "{'s': 5,\n",
       " 'done': [],\n",
       " 'next': [{'s': 3, 'done': [1], 'next': []},\n",
       "  {'s': 2, 'done': [2], 'next': []}]}"
      ]
     },
     "execution_count": 33,
     "metadata": {},
     "output_type": "execute_result"
    }
   ],
   "source": [
    "si = Si\n",
    "\n",
    "paths = {\n",
    "    \"s\": si,\n",
    "    \"done\": [],\n",
    "    \"next\": [],\n",
    "}\n",
    "path = paths\n",
    "for t in range(T):\n",
    "    \n",
    "    for i, d in enumerate(dem):\n",
    "        if i not in path['done'] and d['sc'] <= path['s']:\n",
    "            path['next'].append({\n",
    "                \"s\": path['s'] - d['sc'],\n",
    "                \"done\": path['done'] + [i],\n",
    "                \"next\": [],\n",
    "            })\n",
    "\n",
    "\n",
    "\n",
    "\n",
    "    break\n",
    "\n",
    "paths"
   ]
  },
  {
   "cell_type": "code",
   "execution_count": null,
   "metadata": {},
   "outputs": [],
   "source": []
  }
 ],
 "metadata": {
  "kernelspec": {
   "display_name": "Python 3",
   "language": "python",
   "name": "python3"
  },
  "language_info": {
   "codemirror_mode": {
    "name": "ipython",
    "version": 3
   },
   "file_extension": ".py",
   "mimetype": "text/x-python",
   "name": "python",
   "nbconvert_exporter": "python",
   "pygments_lexer": "ipython3",
   "version": "3.10.6 (main, Nov 14 2022, 16:10:14) [GCC 11.3.0]"
  },
  "orig_nbformat": 4,
  "vscode": {
   "interpreter": {
    "hash": "e7370f93d1d0cde622a1f8e1c04877d8463912d04d973331ad4851f04de6915a"
   }
  }
 },
 "nbformat": 4,
 "nbformat_minor": 2
}
